{
  "cells": [
    {
      "cell_type": "markdown",
      "metadata": {
        "id": "Np1P0jmROMez"
      },
      "source": [
        "This is how recursion works"
      ]
    },
    {
      "cell_type": "code",
      "execution_count": 1,
      "metadata": {
        "id": "9cfVGDGyNgiJ"
      },
      "outputs": [],
      "source": [
        "def firstmethod():\n",
        "  secondmethod()\n",
        "  print ('First')\n",
        "\n",
        "def secondmethod():\n",
        "  thirdmethod()\n",
        "  print ('second')\n",
        "\n",
        "def thirdmethod():\n",
        "  fourthmethod()\n",
        "  print ('third')\n",
        "\n",
        "def fourthmethod():\n",
        "  print ('four')"
      ]
    },
    {
      "cell_type": "code",
      "execution_count": 2,
      "metadata": {
        "colab": {
          "base_uri": "https://localhost:8080/"
        },
        "id": "38Ucy5ziOrWL",
        "outputId": "cbcdb5b1-98ab-406c-e21d-cd1ef85c26a3"
      },
      "outputs": [
        {
          "output_type": "stream",
          "name": "stdout",
          "text": [
            "four\n",
            "third\n",
            "second\n",
            "First\n"
          ]
        }
      ],
      "source": [
        "firstmethod()"
      ]
    },
    {
      "cell_type": "code",
      "execution_count": 3,
      "metadata": {
        "colab": {
          "base_uri": "https://localhost:8080/"
        },
        "id": "mLzqdOqKOwRr",
        "outputId": "66ef5ecd-c8b2-453b-d8ea-28c071117b74"
      },
      "outputs": [
        {
          "output_type": "stream",
          "name": "stdout",
          "text": [
            "four\n",
            "third\n",
            "second\n"
          ]
        }
      ],
      "source": [
        "secondmethod()"
      ]
    },
    {
      "cell_type": "code",
      "execution_count": 4,
      "metadata": {
        "colab": {
          "base_uri": "https://localhost:8080/"
        },
        "id": "VMWk4jZYO-pa",
        "outputId": "1bdd93ab-710f-4007-9c55-0fbca5ff0e32"
      },
      "outputs": [
        {
          "output_type": "stream",
          "name": "stdout",
          "text": [
            "four\n",
            "third\n"
          ]
        }
      ],
      "source": [
        "thirdmethod()"
      ]
    },
    {
      "cell_type": "code",
      "execution_count": 5,
      "metadata": {
        "colab": {
          "base_uri": "https://localhost:8080/"
        },
        "id": "dOl3PXBzPADg",
        "outputId": "6085b31f-b190-4116-ea04-5bc88e073e40"
      },
      "outputs": [
        {
          "output_type": "stream",
          "name": "stdout",
          "text": [
            "four\n"
          ]
        }
      ],
      "source": [
        "fourthmethod()"
      ]
    },
    {
      "cell_type": "code",
      "execution_count": 6,
      "metadata": {
        "colab": {
          "base_uri": "https://localhost:8080/"
        },
        "id": "QxuEZH0YPBkv",
        "outputId": "780ee773-87ce-4bc1-fc67-ba0cd4ff6b65"
      },
      "outputs": [
        {
          "output_type": "stream",
          "name": "stdout",
          "text": [
            "0 is less than 1\n",
            "1\n",
            "2\n",
            "3\n",
            "4\n",
            "5\n"
          ]
        }
      ],
      "source": [
        "def recMethod (n):\n",
        "  if n<1:\n",
        "    print (n, \"is less than 1\")\n",
        "  else:\n",
        "    recMethod(n-1)\n",
        "    print (n)\n",
        "\n",
        "recMethod(5)"
      ]
    },
    {
      "cell_type": "markdown",
      "metadata": {
        "id": "WES6vHb-gi0G"
      },
      "source": [
        "**Exercise 1 :** *Finding power of a number*"
      ]
    },
    {
      "cell_type": "code",
      "execution_count": 8,
      "metadata": {
        "colab": {
          "base_uri": "https://localhost:8080/"
        },
        "id": "OJaUI5ZBQnXL",
        "outputId": "5587fd33-3662-4e20-86ea-466fbec9032e"
      },
      "outputs": [
        {
          "output_type": "stream",
          "name": "stdout",
          "text": [
            "Enter number : 4\n",
            "Enter power : 3\n",
            "64\n"
          ]
        }
      ],
      "source": [
        "def power(N, P):\n",
        "\n",
        "  if P==0:\n",
        "    return 1\n",
        "\n",
        "  else:\n",
        "    return (N * power(N, P-1))\n",
        "\n",
        "N = int(input('Enter number : '))\n",
        "P = int(input('Enter power : '))\n",
        "\n",
        "print (power(N,P))"
      ]
    },
    {
      "cell_type": "code",
      "execution_count": 9,
      "metadata": {
        "colab": {
          "base_uri": "https://localhost:8080/"
        },
        "id": "H6v8yt8oTxYt",
        "outputId": "7fdaa552-3895-4a11-aef4-8c710d809797"
      },
      "outputs": [
        {
          "name": "stdout",
          "output_type": "stream",
          "text": [
            "Enter number to find factorial : 6\n"
          ]
        },
        {
          "output_type": "execute_result",
          "data": {
            "text/plain": [
              "720"
            ]
          },
          "metadata": {},
          "execution_count": 9
        }
      ],
      "source": [
        "def factorial(n):\n",
        "\n",
        "  assert n>=0 and int(n) == n, 'Enter positive and whole number'\n",
        "\n",
        "  if n == 0:\n",
        "    return 1\n",
        "\n",
        "  else:\n",
        "    return n * factorial(n-1)\n",
        "\n",
        "n = int(input('Enter number to find factorial : '))\n",
        "factorial (n)"
      ]
    },
    {
      "cell_type": "markdown",
      "metadata": {
        "id": "pcGTO6p7fupU"
      },
      "source": [
        "Assert is a keyword that is used to check whether our condition is returning true or not. <br>\n",
        "If it is not then assert uses error AssertionError written by us"
      ]
    },
    {
      "cell_type": "code",
      "execution_count": 12,
      "metadata": {
        "colab": {
          "base_uri": "https://localhost:8080/"
        },
        "id": "RS5MJhn6Z3vh",
        "outputId": "a44c5031-5b49-47a4-ef58-95b9cdd13c8d"
      },
      "outputs": [
        {
          "name": "stdout",
          "output_type": "stream",
          "text": [
            "Enter number to find Fibbonaci : 7\n"
          ]
        },
        {
          "output_type": "execute_result",
          "data": {
            "text/plain": [
              "13"
            ]
          },
          "metadata": {},
          "execution_count": 12
        }
      ],
      "source": [
        "def fib(n):\n",
        "\n",
        "  assert n>=0 and int(n) == n, 'Fibbonaci can not be a negative number'\n",
        "\n",
        "  if n in [0, 1]:\n",
        "    return n\n",
        "\n",
        "  else:\n",
        "    return fib(n-1) + fib(n-2)\n",
        "\n",
        "n = int(input('Enter number to find Fibbonaci : '))\n",
        "fib (n)"
      ]
    },
    {
      "cell_type": "code",
      "source": [],
      "metadata": {
        "id": "lb1i4V2XurWR"
      },
      "execution_count": null,
      "outputs": []
    }
  ],
  "metadata": {
    "colab": {
      "provenance": []
    },
    "kernelspec": {
      "display_name": "Python 3",
      "name": "python3"
    },
    "language_info": {
      "name": "python"
    },
    "accelerator": "GPU"
  },
  "nbformat": 4,
  "nbformat_minor": 0
}